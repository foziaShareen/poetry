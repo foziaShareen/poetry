{
 "cells": [
  {
   "cell_type": "markdown",
   "metadata": {},
   "source": [
    "<div style=\"background:#656;padding:10px\">We will install poetry and use it in our file💻</div>"
   ]
  },
  {
   "cell_type": "markdown",
   "metadata": {},
   "source": [
    "<div style=\"background:#656;padding:10px\">first requierment: you must have python installed<br> \n",
    "if not go to microsoft store and download python ,then in your power shell run following commands one by one💻</div>"
   ]
  },
  {
   "cell_type": "markdown",
   "metadata": {},
   "source": [
    "(Invoke-WebRequest -Uri https://install.python-poetry.org -UseBasicParsing).Content | python -\n"
   ]
  },
  {
   "cell_type": "markdown",
   "metadata": {},
   "source": [
    " Once the installation is complete, it will provide you with a path. Copy this path as you'll need to add it to your user environment variables."
   ]
  },
  {
   "cell_type": "code",
   "execution_count": null,
   "metadata": {},
   "outputs": [],
   "source": []
  }
 ],
 "metadata": {
  "language_info": {
   "name": "python"
  }
 },
 "nbformat": 4,
 "nbformat_minor": 2
}
